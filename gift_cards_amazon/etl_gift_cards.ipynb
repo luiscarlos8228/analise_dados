{
 "cells": [
  {
   "cell_type": "code",
   "execution_count": null,
   "id": "19e3e38d-64a1-4176-af68-434ecfd56936",
   "metadata": {},
   "outputs": [],
   "source": [
    "# importação de modulos\n",
    "import pandas as pd\n",
    "from funcoes import funcoes"
   ]
  },
  {
   "cell_type": "code",
   "execution_count": null,
   "id": "49c3f216-512c-4302-82a4-33eb8779f220",
   "metadata": {},
   "outputs": [],
   "source": [
    "# instanciação da classe funcoes\n",
    "func = funcoes(\n",
    "      servidor=f'DESKTOP-NRPKK10\\SQLEXPRESS'\n",
    "    , banco=f'analise_dados'\n",
    "    , driver=f'ODBC Driver 17 for SQL Server'\n",
    ")"
   ]
  },
  {
   "cell_type": "code",
   "execution_count": null,
   "id": "a0d067ab-e5a1-4008-af94-621347708bfc",
   "metadata": {},
   "outputs": [],
   "source": [
    "# parametro lines=True por conta do \\n no final das linhas do json\n",
    "conteudo_arquivo = pd.read_json(f'D:\\projetos_luis\\Gift_Cards.json', lines=True)"
   ]
  },
  {
   "cell_type": "code",
   "execution_count": null,
   "id": "27d0dde6-f298-4429-aaf1-b2f587f498d3",
   "metadata": {},
   "outputs": [],
   "source": [
    "# renomeia colunas\n",
    "df_cards = conteudo_arquivo.rename(\n",
    "    columns={\n",
    "          'overall':'nota'\n",
    "        , 'vote':'votos'\n",
    "        , 'verified':'user_verificado'\n",
    "        , 'reviewTime':'data_avaliacao'\n",
    "        , 'reviewerID':'id_avaliacao'\n",
    "        , 'asin':'id_produto'\n",
    "        , 'style':'valor'\n",
    "        , 'reviewerName':'nome_usuario'\n",
    "        , 'reviewText':'texto'\n",
    "        , 'summary':'titulo'\n",
    "        , 'unixReviewTime':'data_unix'\n",
    "        , 'image':'imagem'\n",
    "    }\n",
    ")"
   ]
  },
  {
   "cell_type": "code",
   "execution_count": null,
   "id": "71ba618a-adc4-4679-9302-aeeb77be6428",
   "metadata": {},
   "outputs": [],
   "source": [
    "# criação dataframe vazio\n",
    "df_ajustado = pd.DataFrame()"
   ]
  },
  {
   "cell_type": "code",
   "execution_count": null,
   "id": "705a798e-5a6d-427b-907c-0cb13958ff53",
   "metadata": {},
   "outputs": [],
   "source": [
    "# normalizando colunas e inserindo em um novo dataframe\n",
    "df_ajustado['user_verificado'] = df_cards['user_verificado'].astype(int)\n",
    "df_ajustado['data_avaliacao'] = pd.to_datetime(df_cards['data_avaliacao'], format='%m %d, %Y').dt.strftime('%d-%m-%Y')\n",
    "df_ajustado['valor'] = df_cards['valor'].apply(func.extrair_numero).fillna(0).astype(int)\n",
    "df_ajustado['nota'] = df_cards['nota'].astype(int)\n",
    "df_ajustado['votos'] = df_cards['votos'].fillna(0).replace(r',', r'.', regex=True).astype(float).astype(int)\n",
    "df_ajustado['id_avaliacao'] = df_cards['id_avaliacao']\n",
    "df_ajustado['id_produto'] = df_cards['id_produto']\n",
    "df_ajustado['nome_usuario'] = df_cards['nome_usuario']\n",
    "df_ajustado['texto'] = df_cards['texto']\n",
    "df_ajustado['titulo'] = df_cards['titulo']"
   ]
  },
  {
   "cell_type": "code",
   "execution_count": null,
   "id": "c5dae92c-7479-4776-bbf2-6b7c34aaa57c",
   "metadata": {},
   "outputs": [],
   "source": [
    "# carrega os dados no banco utilizando a função da classe funcoes\n",
    "func.subir_dados(\n",
    "      df=df_ajustado\n",
    "    , tabela='amazon_gift_cards'\n",
    ")"
   ]
  },
  {
   "cell_type": "code",
   "execution_count": null,
   "id": "b3eb4a2e-0163-4e92-9d8d-0372442aae87",
   "metadata": {},
   "outputs": [],
   "source": [
    "func.query_sql(f'EXEC DBO.PRC_AMAZON_PALAVRAS')"
   ]
  },
  {
   "cell_type": "code",
   "execution_count": null,
   "id": "9b5bbf14-a85f-4333-9ea7-7c520189d23b",
   "metadata": {},
   "outputs": [],
   "source": [
    "func.query_sql(f'EXEC DBO.PRC_AMAZON_AGG')"
   ]
  },
  {
   "cell_type": "code",
   "execution_count": null,
   "id": "0ad0380a-dcbd-4c1f-8163-4bd14807b4c4",
   "metadata": {},
   "outputs": [],
   "source": [
    "func.fechar_conexao()"
   ]
  }
 ],
 "metadata": {
  "kernelspec": {
   "display_name": "Python 3 (ipykernel)",
   "language": "python",
   "name": "python3"
  },
  "language_info": {
   "codemirror_mode": {
    "name": "ipython",
    "version": 3
   },
   "file_extension": ".py",
   "mimetype": "text/x-python",
   "name": "python",
   "nbconvert_exporter": "python",
   "pygments_lexer": "ipython3",
   "version": "3.11.1"
  }
 },
 "nbformat": 4,
 "nbformat_minor": 5
}
